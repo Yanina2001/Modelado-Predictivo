{
 "cells": [
  {
   "cell_type": "code",
   "execution_count": 1,
   "metadata": {},
   "outputs": [],
   "source": [
    "# Execute if necessary\n",
    "# %%capture\n",
    "# !pip install numpy seaborn matplotlib pandas openml"
   ]
  },
  {
   "cell_type": "code",
   "execution_count": 2,
   "metadata": {},
   "outputs": [],
   "source": [
    "import numpy as np\n",
    "import seaborn as sns\n",
    "import matplotlib.pyplot as plt\n",
    "import pandas as pd\n",
    "from typing import Dict, Tuple, Union, List\n",
    "import openml\n",
    "import sklearn\n",
    "\n",
    "from sklearn.linear_model import LogisticRegression, SGDClassifier\n",
    "from sklearn.model_selection import cross_val_score\n",
    "from sklearn.pipeline import make_pipeline\n",
    "from sklearn.preprocessing import StandardScaler, MinMaxScaler\n",
    "from sklearn.metrics import confusion_matrix\n",
    "from sklearn.decomposition import PCA\n",
    "\n",
    "from sklearn import linear_model\n",
    "from sklearn import model_selection\n",
    "from sklearn.metrics import classification_report\n",
    "from sklearn.metrics import confusion_matrix\n",
    "from sklearn.metrics import accuracy_score\n",
    "from sklearn.metrics import log_loss"
   ]
  },
  {
   "cell_type": "markdown",
   "metadata": {},
   "source": [
    "# Práctica 4: Overfitting"
   ]
  },
  {
   "cell_type": "markdown",
   "metadata": {},
   "source": [
    "__Instrucciones__: A continuación hay una lista de funciones que debe implementar o tareas que debe desarrollar. La descripción de cada una de ellas se encuentra en la definición de cada una de las funciones. Cada función está marcada por &#x1F625;,  &#x1F643; o &#x1F921;. Las marcas indican:\n",
    "\n",
    "- &#x1F625;: Indican una entrega que debe ser hecha dentro de la misma sesión de la asignación. \n",
    "- &#x1F643;: Indican una entrega que puede ser hecha hasta la siguiente sesión.\n",
    "- &#x1F921;: Debe mostrar un avance en la misma sesión, pero la entrega puede ser hecha en la siguiente.\n",
    "\n",
    "Aquellas entregas parciales que no sean hechas el día de la asignación ya no serán válidas para las entregas totales, sin embargo, las entregas totales seguirán siendo válidas."
   ]
  },
  {
   "cell_type": "markdown",
   "metadata": {},
   "source": [
    "En esta sección se incluye un dataset real. El dataset importado se llama LDPA y puede leer su descripción en la siguiente liga\n",
    "\n",
    "https://www.openml.org/d/1483"
   ]
  },
  {
   "cell_type": "code",
   "execution_count": 3,
   "metadata": {},
   "outputs": [],
   "source": [
    "# Descarga la metadata del dataset\n",
    "dataset_info = openml.datasets.get_dataset(1483, download_data=False)\n",
    "\n",
    "# Obtiene el nombre de la columna a predecir\n",
    "target = dataset_info.default_target_attribute\n",
    "\n",
    "(\n",
    "    features, # Dataframe con las características que se pueden utilizar para predecir\n",
    "    outputs, # Columna a predecir\n",
    "    categorical_mask, # Máscara que indica que columnas de todas las características son categoricas\n",
    "    columns # Lista con el nombre de las características\n",
    ")= dataset_info.get_data(\n",
    "    dataset_format=\"dataframe\", target=target\n",
    ")\n",
    "\n",
    "categorical_mask = np.array(categorical_mask)\n",
    "columns = np.array(columns)"
   ]
  },
  {
   "cell_type": "code",
   "execution_count": 4,
   "metadata": {},
   "outputs": [
    {
     "name": "stdout",
     "output_type": "stream",
     "text": [
      "La columna a predecir se llama 'Class'\n",
      "Todas las características son ['V1' 'V2' 'V3' 'V4' 'V5' 'V6' 'V7']\n",
      "Las características categóricas son ['V1' 'V2']\n",
      "Las características numéricas son ['V3' 'V4' 'V5' 'V6' 'V7']\n"
     ]
    }
   ],
   "source": [
    "print(f\"La columna a predecir se llama '{target}'\")\n",
    "print(f\"Todas las características son {str(columns)}\")\n",
    "print(f\"Las características categóricas son {str(columns[categorical_mask])}\")\n",
    "print(f\"Las características numéricas son {str(columns[~categorical_mask])}\")"
   ]
  },
  {
   "cell_type": "code",
   "execution_count": 5,
   "metadata": {},
   "outputs": [
    {
     "data": {
      "text/html": [
       "<div>\n",
       "<style scoped>\n",
       "    .dataframe tbody tr th:only-of-type {\n",
       "        vertical-align: middle;\n",
       "    }\n",
       "\n",
       "    .dataframe tbody tr th {\n",
       "        vertical-align: top;\n",
       "    }\n",
       "\n",
       "    .dataframe thead th {\n",
       "        text-align: right;\n",
       "    }\n",
       "</style>\n",
       "<table border=\"1\" class=\"dataframe\">\n",
       "  <thead>\n",
       "    <tr style=\"text-align: right;\">\n",
       "      <th></th>\n",
       "      <th>V1</th>\n",
       "      <th>V2</th>\n",
       "      <th>V3</th>\n",
       "      <th>V4</th>\n",
       "      <th>V5</th>\n",
       "      <th>V6</th>\n",
       "      <th>V7</th>\n",
       "    </tr>\n",
       "  </thead>\n",
       "  <tbody>\n",
       "    <tr>\n",
       "      <th>0</th>\n",
       "      <td>1</td>\n",
       "      <td>1</td>\n",
       "      <td>105794.0</td>\n",
       "      <td>105777.0</td>\n",
       "      <td>148933.0</td>\n",
       "      <td>108479.0</td>\n",
       "      <td>109365.0</td>\n",
       "    </tr>\n",
       "    <tr>\n",
       "      <th>1</th>\n",
       "      <td>1</td>\n",
       "      <td>4</td>\n",
       "      <td>105795.0</td>\n",
       "      <td>105778.0</td>\n",
       "      <td>155325.0</td>\n",
       "      <td>96952.0</td>\n",
       "      <td>161363.0</td>\n",
       "    </tr>\n",
       "    <tr>\n",
       "      <th>2</th>\n",
       "      <td>1</td>\n",
       "      <td>3</td>\n",
       "      <td>105796.0</td>\n",
       "      <td>105779.0</td>\n",
       "      <td>156652.0</td>\n",
       "      <td>101610.0</td>\n",
       "      <td>148870.0</td>\n",
       "    </tr>\n",
       "    <tr>\n",
       "      <th>3</th>\n",
       "      <td>1</td>\n",
       "      <td>1</td>\n",
       "      <td>105797.0</td>\n",
       "      <td>105780.0</td>\n",
       "      <td>149736.0</td>\n",
       "      <td>107135.0</td>\n",
       "      <td>102479.0</td>\n",
       "    </tr>\n",
       "    <tr>\n",
       "      <th>4</th>\n",
       "      <td>1</td>\n",
       "      <td>2</td>\n",
       "      <td>105798.0</td>\n",
       "      <td>105781.0</td>\n",
       "      <td>155978.0</td>\n",
       "      <td>125455.0</td>\n",
       "      <td>106203.0</td>\n",
       "    </tr>\n",
       "    <tr>\n",
       "      <th>...</th>\n",
       "      <td>...</td>\n",
       "      <td>...</td>\n",
       "      <td>...</td>\n",
       "      <td>...</td>\n",
       "      <td>...</td>\n",
       "      <td>...</td>\n",
       "      <td>...</td>\n",
       "    </tr>\n",
       "    <tr>\n",
       "      <th>164855</th>\n",
       "      <td>5</td>\n",
       "      <td>2</td>\n",
       "      <td>43687.0</td>\n",
       "      <td>43679.0</td>\n",
       "      <td>106611.0</td>\n",
       "      <td>123166.0</td>\n",
       "      <td>12432.0</td>\n",
       "    </tr>\n",
       "    <tr>\n",
       "      <th>164856</th>\n",
       "      <td>5</td>\n",
       "      <td>1</td>\n",
       "      <td>43688.0</td>\n",
       "      <td>43680.0</td>\n",
       "      <td>120821.0</td>\n",
       "      <td>119848.0</td>\n",
       "      <td>87463.0</td>\n",
       "    </tr>\n",
       "    <tr>\n",
       "      <th>164857</th>\n",
       "      <td>5</td>\n",
       "      <td>4</td>\n",
       "      <td>43689.0</td>\n",
       "      <td>43681.0</td>\n",
       "      <td>104999.0</td>\n",
       "      <td>110823.0</td>\n",
       "      <td>161536.0</td>\n",
       "    </tr>\n",
       "    <tr>\n",
       "      <th>164858</th>\n",
       "      <td>5</td>\n",
       "      <td>2</td>\n",
       "      <td>43690.0</td>\n",
       "      <td>43682.0</td>\n",
       "      <td>102191.0</td>\n",
       "      <td>112520.0</td>\n",
       "      <td>10811.0</td>\n",
       "    </tr>\n",
       "    <tr>\n",
       "      <th>164859</th>\n",
       "      <td>5</td>\n",
       "      <td>1</td>\n",
       "      <td>43691.0</td>\n",
       "      <td>43683.0</td>\n",
       "      <td>106656.0</td>\n",
       "      <td>113422.0</td>\n",
       "      <td>80572.0</td>\n",
       "    </tr>\n",
       "  </tbody>\n",
       "</table>\n",
       "<p>164860 rows × 7 columns</p>\n",
       "</div>"
      ],
      "text/plain": [
       "       V1 V2        V3        V4        V5        V6        V7\n",
       "0       1  1  105794.0  105777.0  148933.0  108479.0  109365.0\n",
       "1       1  4  105795.0  105778.0  155325.0   96952.0  161363.0\n",
       "2       1  3  105796.0  105779.0  156652.0  101610.0  148870.0\n",
       "3       1  1  105797.0  105780.0  149736.0  107135.0  102479.0\n",
       "4       1  2  105798.0  105781.0  155978.0  125455.0  106203.0\n",
       "...    .. ..       ...       ...       ...       ...       ...\n",
       "164855  5  2   43687.0   43679.0  106611.0  123166.0   12432.0\n",
       "164856  5  1   43688.0   43680.0  120821.0  119848.0   87463.0\n",
       "164857  5  4   43689.0   43681.0  104999.0  110823.0  161536.0\n",
       "164858  5  2   43690.0   43682.0  102191.0  112520.0   10811.0\n",
       "164859  5  1   43691.0   43683.0  106656.0  113422.0   80572.0\n",
       "\n",
       "[164860 rows x 7 columns]"
      ]
     },
     "execution_count": 5,
     "metadata": {},
     "output_type": "execute_result"
    }
   ],
   "source": [
    "# Impresión de las características\n",
    "features"
   ]
  },
  {
   "cell_type": "code",
   "execution_count": 6,
   "metadata": {},
   "outputs": [
    {
     "data": {
      "text/plain": [
       "0         3\n",
       "1         3\n",
       "2         3\n",
       "3         3\n",
       "4         3\n",
       "         ..\n",
       "164855    3\n",
       "164856    3\n",
       "164857    3\n",
       "164858    3\n",
       "164859    3\n",
       "Name: Class, Length: 164860, dtype: category\n",
       "Categories (11, object): ['1' < '2' < '3' < '4' ... '8' < '9' < '10' < '11']"
      ]
     },
     "execution_count": 6,
     "metadata": {},
     "output_type": "execute_result"
    }
   ],
   "source": [
    "outputs"
   ]
  },
  {
   "cell_type": "markdown",
   "metadata": {},
   "source": [
    "A continuación se realiza la partición de __train__ y __test__. __No debe utilizar la partición de test por ningún motivo__."
   ]
  },
  {
   "cell_type": "code",
   "execution_count": 7,
   "metadata": {},
   "outputs": [],
   "source": [
    "X_train, X_test, y_train, y_test = sklearn.model_selection.train_test_split(\n",
    "    features, \n",
    "    outputs, \n",
    "    test_size=0.5, \n",
    "    random_state=11\n",
    ")"
   ]
  },
  {
   "cell_type": "markdown",
   "metadata": {},
   "source": [
    "## Asignación 1 &#x1F921;\n",
    "\n",
    "Utilizando las técnicas vistas en clase, realicé su mejor esfuerzo para obtener el mejor modelo lineal posible utilizando __únicamente el conjunto de entrenamiento__ (X_train y y_train). Puede utilizar bibliotecas, pero únicamente las técnicas vistas en clase y debe ir generando métricas o visualizaciones que respalden su toma de decisiones. Debe tener e imprimir una estimación de $E_{out}$ utilizando su conjunto de entrenamiento. La métrica utilizada será la entropía cruzada."
   ]
  },
  {
   "cell_type": "markdown",
   "metadata": {},
   "source": [
    "Attribute Information:\n",
    "\n",
    "Instance Example: A01,020-000-033-111,633790226057226795,27.05.2009 14:03:25:723,4.292500972747803,2.0738532543182373,1.36650812625885,walking\n",
    "\n",
    "1. Sequence Name {A01,A02,A03,A04,A05,B01,B02,B03,B04,B05,C01,C02,C03,C04,C05,D01,D02,D03,D04,D05,E01,E02,E03,E04,E05} (Nominal)\n",
    "\n",
    "    * A, B, C, D, E = 5 people\n",
    "    \n",
    "  \n",
    "2. Tag identificator {010-000-024-033,020-000-033-111,020-000-032-221,010-000-030-096} (Nominal)\n",
    "\n",
    "    * ANKLE_LEFT = 010-000-024-033\n",
    "    * ANKLE_RIGHT = 010-000-030-096\n",
    "    * CHEST = 020-000-033-111\n",
    "    * BELT = 020-000-032-221\n",
    "    \n",
    "\n",
    "3. timestamp (Numeric) all unique\n",
    "\n",
    "4. date FORMAT = dd.MM.yyyy HH:mm:ss:SSS (Date)\n",
    "\n",
    "5. x coordinate of the tag (Numeric)\n",
    "\n",
    "6. y coordinate of the tag (Numeric)\n",
    "\n",
    "7. z coordinate of the tag (Numeric)\n",
    "\n",
    "8. activity {walking,falling,'lying down',lying,'sitting down',sitting,'standing up from lying','on all fours','sitting on the ground','standing up from sitting','standing up from sitting on the ground'} (Nominal)"
   ]
  },
  {
   "cell_type": "code",
   "execution_count": 8,
   "metadata": {},
   "outputs": [
    {
     "data": {
      "image/png": "[encoded data removed]",
      "text/plain": [
       "<Figure size 1080x576 with 2 Axes>"
      ]
     },
     "metadata": {
      "needs_background": "light"
     },
     "output_type": "display_data"
    }
   ],
   "source": [
    "columns = [\"V1\", \"V2\"]\n",
    "fig, axs = plt.subplots(ncols=2, nrows= 1, figsize=(15, 8))\n",
    "\n",
    "for i, col in enumerate(columns):\n",
    "    sns.histplot(data = X_train, x = col, ax = axs[i])"
   ]
  },
  {
   "cell_type": "code",
   "execution_count": 9,
   "metadata": {},
   "outputs": [
    {
     "data": {
      "image/png": "[encoded data removed]",
      "text/plain": [
       "<Figure size 864x288 with 3 Axes>"
      ]
     },
     "metadata": {
      "needs_background": "light"
     },
     "output_type": "display_data"
    }
   ],
   "source": [
    "columns = [\"V5\", \"V6\", \"V7\"]\n",
    "fig, axs = plt.subplots(ncols=3, nrows= 1, figsize=(12, 4))\n",
    "\n",
    "for i, col in enumerate(columns):\n",
    "    value = X_train[col].values\n",
    "    value = value*(1/1000)\n",
    "    X_train[col] = np.round(value)\n",
    "    axs[i].hist(x = value.round())"
   ]
  },
  {
   "cell_type": "code",
   "execution_count": 10,
   "metadata": {},
   "outputs": [
    {
     "data": {
      "text/html": [
       "<div>\n",
       "<style scoped>\n",
       "    .dataframe tbody tr th:only-of-type {\n",
       "        vertical-align: middle;\n",
       "    }\n",
       "\n",
       "    .dataframe tbody tr th {\n",
       "        vertical-align: top;\n",
       "    }\n",
       "\n",
       "    .dataframe thead th {\n",
       "        text-align: right;\n",
       "    }\n",
       "</style>\n",
       "<table border=\"1\" class=\"dataframe\">\n",
       "  <thead>\n",
       "    <tr style=\"text-align: right;\">\n",
       "      <th></th>\n",
       "      <th>V3</th>\n",
       "      <th>V4</th>\n",
       "      <th>V5</th>\n",
       "      <th>V6</th>\n",
       "      <th>V7</th>\n",
       "      <th>V1_1</th>\n",
       "      <th>V1_2</th>\n",
       "      <th>V1_3</th>\n",
       "      <th>V1_4</th>\n",
       "      <th>V1_5</th>\n",
       "      <th>V2_1</th>\n",
       "      <th>V2_2</th>\n",
       "      <th>V2_3</th>\n",
       "      <th>V2_4</th>\n",
       "    </tr>\n",
       "  </thead>\n",
       "  <tbody>\n",
       "    <tr>\n",
       "      <th>82677</th>\n",
       "      <td>158321.0</td>\n",
       "      <td>158297.0</td>\n",
       "      <td>72.0</td>\n",
       "      <td>106.0</td>\n",
       "      <td>146.0</td>\n",
       "      <td>0</td>\n",
       "      <td>0</td>\n",
       "      <td>1</td>\n",
       "      <td>0</td>\n",
       "      <td>0</td>\n",
       "      <td>0</td>\n",
       "      <td>0</td>\n",
       "      <td>1</td>\n",
       "      <td>0</td>\n",
       "    </tr>\n",
       "    <tr>\n",
       "      <th>2843</th>\n",
       "      <td>108637.0</td>\n",
       "      <td>108619.0</td>\n",
       "      <td>135.0</td>\n",
       "      <td>76.0</td>\n",
       "      <td>79.0</td>\n",
       "      <td>1</td>\n",
       "      <td>0</td>\n",
       "      <td>0</td>\n",
       "      <td>0</td>\n",
       "      <td>0</td>\n",
       "      <td>1</td>\n",
       "      <td>0</td>\n",
       "      <td>0</td>\n",
       "      <td>0</td>\n",
       "    </tr>\n",
       "    <tr>\n",
       "      <th>50670</th>\n",
       "      <td>98841.0</td>\n",
       "      <td>98825.0</td>\n",
       "      <td>76.0</td>\n",
       "      <td>137.0</td>\n",
       "      <td>102.0</td>\n",
       "      <td>0</td>\n",
       "      <td>1</td>\n",
       "      <td>0</td>\n",
       "      <td>0</td>\n",
       "      <td>0</td>\n",
       "      <td>0</td>\n",
       "      <td>1</td>\n",
       "      <td>0</td>\n",
       "      <td>0</td>\n",
       "    </tr>\n",
       "    <tr>\n",
       "      <th>128441</th>\n",
       "      <td>7274.0</td>\n",
       "      <td>7273.0</td>\n",
       "      <td>97.0</td>\n",
       "      <td>128.0</td>\n",
       "      <td>138.0</td>\n",
       "      <td>0</td>\n",
       "      <td>0</td>\n",
       "      <td>0</td>\n",
       "      <td>0</td>\n",
       "      <td>1</td>\n",
       "      <td>0</td>\n",
       "      <td>0</td>\n",
       "      <td>0</td>\n",
       "      <td>1</td>\n",
       "    </tr>\n",
       "    <tr>\n",
       "      <th>10592</th>\n",
       "      <td>116386.0</td>\n",
       "      <td>116368.0</td>\n",
       "      <td>70.0</td>\n",
       "      <td>141.0</td>\n",
       "      <td>119.0</td>\n",
       "      <td>1</td>\n",
       "      <td>0</td>\n",
       "      <td>0</td>\n",
       "      <td>0</td>\n",
       "      <td>0</td>\n",
       "      <td>0</td>\n",
       "      <td>1</td>\n",
       "      <td>0</td>\n",
       "      <td>0</td>\n",
       "    </tr>\n",
       "    <tr>\n",
       "      <th>...</th>\n",
       "      <td>...</td>\n",
       "      <td>...</td>\n",
       "      <td>...</td>\n",
       "      <td>...</td>\n",
       "      <td>...</td>\n",
       "      <td>...</td>\n",
       "      <td>...</td>\n",
       "      <td>...</td>\n",
       "      <td>...</td>\n",
       "      <td>...</td>\n",
       "      <td>...</td>\n",
       "      <td>...</td>\n",
       "      <td>...</td>\n",
       "      <td>...</td>\n",
       "    </tr>\n",
       "    <tr>\n",
       "      <th>102327</th>\n",
       "      <td>56803.0</td>\n",
       "      <td>56792.0</td>\n",
       "      <td>146.0</td>\n",
       "      <td>115.0</td>\n",
       "      <td>48.0</td>\n",
       "      <td>0</td>\n",
       "      <td>0</td>\n",
       "      <td>0</td>\n",
       "      <td>1</td>\n",
       "      <td>0</td>\n",
       "      <td>0</td>\n",
       "      <td>1</td>\n",
       "      <td>0</td>\n",
       "      <td>0</td>\n",
       "    </tr>\n",
       "    <tr>\n",
       "      <th>97617</th>\n",
       "      <td>52093.0</td>\n",
       "      <td>52085.0</td>\n",
       "      <td>55.0</td>\n",
       "      <td>81.0</td>\n",
       "      <td>27.0</td>\n",
       "      <td>0</td>\n",
       "      <td>0</td>\n",
       "      <td>0</td>\n",
       "      <td>1</td>\n",
       "      <td>0</td>\n",
       "      <td>0</td>\n",
       "      <td>1</td>\n",
       "      <td>0</td>\n",
       "      <td>0</td>\n",
       "    </tr>\n",
       "    <tr>\n",
       "      <th>21584</th>\n",
       "      <td>127378.0</td>\n",
       "      <td>127358.0</td>\n",
       "      <td>45.0</td>\n",
       "      <td>105.0</td>\n",
       "      <td>49.0</td>\n",
       "      <td>1</td>\n",
       "      <td>0</td>\n",
       "      <td>0</td>\n",
       "      <td>0</td>\n",
       "      <td>0</td>\n",
       "      <td>1</td>\n",
       "      <td>0</td>\n",
       "      <td>0</td>\n",
       "      <td>0</td>\n",
       "    </tr>\n",
       "    <tr>\n",
       "      <th>36543</th>\n",
       "      <td>84714.0</td>\n",
       "      <td>84700.0</td>\n",
       "      <td>59.0</td>\n",
       "      <td>33.0</td>\n",
       "      <td>114.0</td>\n",
       "      <td>0</td>\n",
       "      <td>1</td>\n",
       "      <td>0</td>\n",
       "      <td>0</td>\n",
       "      <td>0</td>\n",
       "      <td>0</td>\n",
       "      <td>1</td>\n",
       "      <td>0</td>\n",
       "      <td>0</td>\n",
       "    </tr>\n",
       "    <tr>\n",
       "      <th>141209</th>\n",
       "      <td>20042.0</td>\n",
       "      <td>20038.0</td>\n",
       "      <td>52.0</td>\n",
       "      <td>160.0</td>\n",
       "      <td>83.0</td>\n",
       "      <td>0</td>\n",
       "      <td>0</td>\n",
       "      <td>0</td>\n",
       "      <td>0</td>\n",
       "      <td>1</td>\n",
       "      <td>1</td>\n",
       "      <td>0</td>\n",
       "      <td>0</td>\n",
       "      <td>0</td>\n",
       "    </tr>\n",
       "  </tbody>\n",
       "</table>\n",
       "<p>82430 rows × 14 columns</p>\n",
       "</div>"
      ],
      "text/plain": [
       "              V3        V4     V5     V6     V7  V1_1  V1_2  V1_3  V1_4  V1_5  \\\n",
       "82677   158321.0  158297.0   72.0  106.0  146.0     0     0     1     0     0   \n",
       "2843    108637.0  108619.0  135.0   76.0   79.0     1     0     0     0     0   \n",
       "50670    98841.0   98825.0   76.0  137.0  102.0     0     1     0     0     0   \n",
       "128441    7274.0    7273.0   97.0  128.0  138.0     0     0     0     0     1   \n",
       "10592   116386.0  116368.0   70.0  141.0  119.0     1     0     0     0     0   \n",
       "...          ...       ...    ...    ...    ...   ...   ...   ...   ...   ...   \n",
       "102327   56803.0   56792.0  146.0  115.0   48.0     0     0     0     1     0   \n",
       "97617    52093.0   52085.0   55.0   81.0   27.0     0     0     0     1     0   \n",
       "21584   127378.0  127358.0   45.0  105.0   49.0     1     0     0     0     0   \n",
       "36543    84714.0   84700.0   59.0   33.0  114.0     0     1     0     0     0   \n",
       "141209   20042.0   20038.0   52.0  160.0   83.0     0     0     0     0     1   \n",
       "\n",
       "        V2_1  V2_2  V2_3  V2_4  \n",
       "82677      0     0     1     0  \n",
       "2843       1     0     0     0  \n",
       "50670      0     1     0     0  \n",
       "128441     0     0     0     1  \n",
       "10592      0     1     0     0  \n",
       "...      ...   ...   ...   ...  \n",
       "102327     0     1     0     0  \n",
       "97617      0     1     0     0  \n",
       "21584      1     0     0     0  \n",
       "36543      0     1     0     0  \n",
       "141209     1     0     0     0  \n",
       "\n",
       "[82430 rows x 14 columns]"
      ]
     },
     "execution_count": 10,
     "metadata": {},
     "output_type": "execute_result"
    }
   ],
   "source": [
    "# One Hot Encoding para V1 y V2\n",
    "X_train = pd.get_dummies(X_train, prefix=[\"V1\",\"V2\"], columns=[\"V1\",\"V2\"])\n",
    "X_train"
   ]
  },
  {
   "cell_type": "code",
   "execution_count": 11,
   "metadata": {},
   "outputs": [
    {
     "data": {
      "text/plain": [
       "<AxesSubplot:xlabel='Class', ylabel='Count'>"
      ]
     },
     "execution_count": 11,
     "metadata": {},
     "output_type": "execute_result"
    },
    {
     "data": {
      "image/png": "[encoded data removed]",
      "text/plain": [
       "<Figure size 1080x576 with 6 Axes>"
      ]
     },
     "metadata": {
      "needs_background": "light"
     },
     "output_type": "display_data"
    }
   ],
   "source": [
    "columns = [\"V3\", \"V4\", \"V5\", \"V6\", \"V7\"]\n",
    "fig, axs = plt.subplots(ncols=3, nrows= 2, figsize=(15, 8))\n",
    "\n",
    "for i, col in enumerate(columns):\n",
    "    sns.histplot(data = X_train, x = col, ax = axs[i // 3, i % 3])\n",
    "\n",
    "sns.histplot(x = y_train, ax = axs[1, 2])"
   ]
  },
  {
   "cell_type": "code",
   "execution_count": 12,
   "metadata": {},
   "outputs": [
    {
     "data": {
      "image/png": "[encoded data removed]",
      "text/plain": [
       "<Figure size 432x288 with 1 Axes>"
      ]
     },
     "metadata": {
      "needs_background": "light"
     },
     "output_type": "display_data"
    },
    {
     "data": {
      "image/png": "[encoded data removed]",
      "text/plain": [
       "<Figure size 432x288 with 1 Axes>"
      ]
     },
     "metadata": {
      "needs_background": "light"
     },
     "output_type": "display_data"
    }
   ],
   "source": [
    "plt.figure()\n",
    "# Comprobamos las clases de la variable a predecir\n",
    "sns.histplot(x=y_train, kde=True)\n",
    "plt.title(f'y_train')\n",
    "plt.show()\n",
    "\n",
    "plt.figure()\n",
    "sns.histplot(x=outputs, kde=True)\n",
    "plt.title(f'Datos originales')\n",
    "plt.show()"
   ]
  },
  {
   "cell_type": "code",
   "execution_count": 13,
   "metadata": {},
   "outputs": [
    {
     "data": {
      "text/plain": [
       "[27168, 16359, 13621, 9275, 5884, 3045, 2665, 1497, 1360, 852, 704]"
      ]
     },
     "execution_count": 13,
     "metadata": {},
     "output_type": "execute_result"
    }
   ],
   "source": [
    "counts_ls = list(y_train.value_counts())\n",
    "counts_ls"
   ]
  },
  {
   "cell_type": "code",
   "execution_count": 14,
   "metadata": {},
   "outputs": [
    {
     "data": {
      "image/png": "[encoded data removed]",
      "text/plain": [
       "<Figure size 720x360 with 1 Axes>"
      ]
     },
     "metadata": {
      "needs_background": "light"
     },
     "output_type": "display_data"
    }
   ],
   "source": [
    "counts_ls_prob = [elem / sum(counts_ls) for elem in counts_ls]\n",
    "class_ls = list(y_train.value_counts().index)\n",
    "\n",
    "fig = plt.figure(figsize = (10, 5))\n",
    "plt.bar(class_ls, counts_ls_prob, color ='blue',\n",
    "        width = 0.4)\n",
    "plt.show()"
   ]
  },
  {
   "cell_type": "code",
   "execution_count": 15,
   "metadata": {},
   "outputs": [],
   "source": [
    "from sklearn.preprocessing import StandardScaler, MinMaxScaler\n",
    "\n",
    "def scaleDf(data):\n",
    "    dtScaled = data\n",
    "    for i in data.columns:\n",
    "        if data[i].dtype == 'int64' or data[i].dtype == 'float64':\n",
    "            min_r = np.amin(data[i])\n",
    "            max_r = np.amax(data[i])\n",
    "\n",
    "            dtScaled[i] = (data[i]-min_r) / (max_r-min_r)\n",
    "\n",
    "    return dtScaled"
   ]
  },
  {
   "cell_type": "code",
   "execution_count": 16,
   "metadata": {},
   "outputs": [],
   "source": [
    "def onHoEn(df, columns):\n",
    "    for col in columns:\n",
    "        col_encoded = pd.get_dummies(pd.Series(df[col]))\n",
    "        df[['{}_'.format(col) + str(c) for c in list(col_encoded.columns.values)]] = col_encoded\n",
    "        df = df.drop(columns = col)\n",
    "        \n",
    "    return df"
   ]
  },
  {
   "cell_type": "code",
   "execution_count": 17,
   "metadata": {},
   "outputs": [
    {
     "data": {
      "text/html": [
       "<div>\n",
       "<style scoped>\n",
       "    .dataframe tbody tr th:only-of-type {\n",
       "        vertical-align: middle;\n",
       "    }\n",
       "\n",
       "    .dataframe tbody tr th {\n",
       "        vertical-align: top;\n",
       "    }\n",
       "\n",
       "    .dataframe thead th {\n",
       "        text-align: right;\n",
       "    }\n",
       "</style>\n",
       "<table border=\"1\" class=\"dataframe\">\n",
       "  <thead>\n",
       "    <tr style=\"text-align: right;\">\n",
       "      <th></th>\n",
       "      <th>V5</th>\n",
       "      <th>V6</th>\n",
       "      <th>V7</th>\n",
       "      <th>V1_1</th>\n",
       "      <th>V1_2</th>\n",
       "      <th>V1_3</th>\n",
       "      <th>V1_4</th>\n",
       "      <th>V1_5</th>\n",
       "      <th>V2_1</th>\n",
       "      <th>V2_2</th>\n",
       "      <th>V2_3</th>\n",
       "      <th>V2_4</th>\n",
       "    </tr>\n",
       "  </thead>\n",
       "  <tbody>\n",
       "    <tr>\n",
       "      <th>82677</th>\n",
       "      <td>72.0</td>\n",
       "      <td>106.0</td>\n",
       "      <td>146.0</td>\n",
       "      <td>0</td>\n",
       "      <td>0</td>\n",
       "      <td>1</td>\n",
       "      <td>0</td>\n",
       "      <td>0</td>\n",
       "      <td>0</td>\n",
       "      <td>0</td>\n",
       "      <td>1</td>\n",
       "      <td>0</td>\n",
       "    </tr>\n",
       "    <tr>\n",
       "      <th>2843</th>\n",
       "      <td>135.0</td>\n",
       "      <td>76.0</td>\n",
       "      <td>79.0</td>\n",
       "      <td>1</td>\n",
       "      <td>0</td>\n",
       "      <td>0</td>\n",
       "      <td>0</td>\n",
       "      <td>0</td>\n",
       "      <td>1</td>\n",
       "      <td>0</td>\n",
       "      <td>0</td>\n",
       "      <td>0</td>\n",
       "    </tr>\n",
       "    <tr>\n",
       "      <th>50670</th>\n",
       "      <td>76.0</td>\n",
       "      <td>137.0</td>\n",
       "      <td>102.0</td>\n",
       "      <td>0</td>\n",
       "      <td>1</td>\n",
       "      <td>0</td>\n",
       "      <td>0</td>\n",
       "      <td>0</td>\n",
       "      <td>0</td>\n",
       "      <td>1</td>\n",
       "      <td>0</td>\n",
       "      <td>0</td>\n",
       "    </tr>\n",
       "    <tr>\n",
       "      <th>128441</th>\n",
       "      <td>97.0</td>\n",
       "      <td>128.0</td>\n",
       "      <td>138.0</td>\n",
       "      <td>0</td>\n",
       "      <td>0</td>\n",
       "      <td>0</td>\n",
       "      <td>0</td>\n",
       "      <td>1</td>\n",
       "      <td>0</td>\n",
       "      <td>0</td>\n",
       "      <td>0</td>\n",
       "      <td>1</td>\n",
       "    </tr>\n",
       "    <tr>\n",
       "      <th>10592</th>\n",
       "      <td>70.0</td>\n",
       "      <td>141.0</td>\n",
       "      <td>119.0</td>\n",
       "      <td>1</td>\n",
       "      <td>0</td>\n",
       "      <td>0</td>\n",
       "      <td>0</td>\n",
       "      <td>0</td>\n",
       "      <td>0</td>\n",
       "      <td>1</td>\n",
       "      <td>0</td>\n",
       "      <td>0</td>\n",
       "    </tr>\n",
       "    <tr>\n",
       "      <th>...</th>\n",
       "      <td>...</td>\n",
       "      <td>...</td>\n",
       "      <td>...</td>\n",
       "      <td>...</td>\n",
       "      <td>...</td>\n",
       "      <td>...</td>\n",
       "      <td>...</td>\n",
       "      <td>...</td>\n",
       "      <td>...</td>\n",
       "      <td>...</td>\n",
       "      <td>...</td>\n",
       "      <td>...</td>\n",
       "    </tr>\n",
       "    <tr>\n",
       "      <th>102327</th>\n",
       "      <td>146.0</td>\n",
       "      <td>115.0</td>\n",
       "      <td>48.0</td>\n",
       "      <td>0</td>\n",
       "      <td>0</td>\n",
       "      <td>0</td>\n",
       "      <td>1</td>\n",
       "      <td>0</td>\n",
       "      <td>0</td>\n",
       "      <td>1</td>\n",
       "      <td>0</td>\n",
       "      <td>0</td>\n",
       "    </tr>\n",
       "    <tr>\n",
       "      <th>97617</th>\n",
       "      <td>55.0</td>\n",
       "      <td>81.0</td>\n",
       "      <td>27.0</td>\n",
       "      <td>0</td>\n",
       "      <td>0</td>\n",
       "      <td>0</td>\n",
       "      <td>1</td>\n",
       "      <td>0</td>\n",
       "      <td>0</td>\n",
       "      <td>1</td>\n",
       "      <td>0</td>\n",
       "      <td>0</td>\n",
       "    </tr>\n",
       "    <tr>\n",
       "      <th>21584</th>\n",
       "      <td>45.0</td>\n",
       "      <td>105.0</td>\n",
       "      <td>49.0</td>\n",
       "      <td>1</td>\n",
       "      <td>0</td>\n",
       "      <td>0</td>\n",
       "      <td>0</td>\n",
       "      <td>0</td>\n",
       "      <td>1</td>\n",
       "      <td>0</td>\n",
       "      <td>0</td>\n",
       "      <td>0</td>\n",
       "    </tr>\n",
       "    <tr>\n",
       "      <th>36543</th>\n",
       "      <td>59.0</td>\n",
       "      <td>33.0</td>\n",
       "      <td>114.0</td>\n",
       "      <td>0</td>\n",
       "      <td>1</td>\n",
       "      <td>0</td>\n",
       "      <td>0</td>\n",
       "      <td>0</td>\n",
       "      <td>0</td>\n",
       "      <td>1</td>\n",
       "      <td>0</td>\n",
       "      <td>0</td>\n",
       "    </tr>\n",
       "    <tr>\n",
       "      <th>141209</th>\n",
       "      <td>52.0</td>\n",
       "      <td>160.0</td>\n",
       "      <td>83.0</td>\n",
       "      <td>0</td>\n",
       "      <td>0</td>\n",
       "      <td>0</td>\n",
       "      <td>0</td>\n",
       "      <td>1</td>\n",
       "      <td>1</td>\n",
       "      <td>0</td>\n",
       "      <td>0</td>\n",
       "      <td>0</td>\n",
       "    </tr>\n",
       "  </tbody>\n",
       "</table>\n",
       "<p>82430 rows × 12 columns</p>\n",
       "</div>"
      ],
      "text/plain": [
       "           V5     V6     V7  V1_1  V1_2  V1_3  V1_4  V1_5  V2_1  V2_2  V2_3  \\\n",
       "82677    72.0  106.0  146.0     0     0     1     0     0     0     0     1   \n",
       "2843    135.0   76.0   79.0     1     0     0     0     0     1     0     0   \n",
       "50670    76.0  137.0  102.0     0     1     0     0     0     0     1     0   \n",
       "128441   97.0  128.0  138.0     0     0     0     0     1     0     0     0   \n",
       "10592    70.0  141.0  119.0     1     0     0     0     0     0     1     0   \n",
       "...       ...    ...    ...   ...   ...   ...   ...   ...   ...   ...   ...   \n",
       "102327  146.0  115.0   48.0     0     0     0     1     0     0     1     0   \n",
       "97617    55.0   81.0   27.0     0     0     0     1     0     0     1     0   \n",
       "21584    45.0  105.0   49.0     1     0     0     0     0     1     0     0   \n",
       "36543    59.0   33.0  114.0     0     1     0     0     0     0     1     0   \n",
       "141209   52.0  160.0   83.0     0     0     0     0     1     1     0     0   \n",
       "\n",
       "        V2_4  \n",
       "82677      0  \n",
       "2843       0  \n",
       "50670      0  \n",
       "128441     1  \n",
       "10592      0  \n",
       "...      ...  \n",
       "102327     0  \n",
       "97617      0  \n",
       "21584      0  \n",
       "36543      0  \n",
       "141209     0  \n",
       "\n",
       "[82430 rows x 12 columns]"
      ]
     },
     "execution_count": 17,
     "metadata": {},
     "output_type": "execute_result"
    }
   ],
   "source": [
    "X_train = X_train.drop(columns=['V3', 'V4'])\n",
    "X_train"
   ]
  },
  {
   "cell_type": "code",
   "execution_count": 18,
   "metadata": {},
   "outputs": [
    {
     "name": "stdout",
     "output_type": "stream",
     "text": [
      "Shape before PCA:  (164860, 7)\n",
      "Shape after PCA:  (164860, 3)\n"
     ]
    },
    {
     "data": {
      "text/html": [
       "<div>\n",
       "<style scoped>\n",
       "    .dataframe tbody tr th:only-of-type {\n",
       "        vertical-align: middle;\n",
       "    }\n",
       "\n",
       "    .dataframe tbody tr th {\n",
       "        vertical-align: top;\n",
       "    }\n",
       "\n",
       "    .dataframe thead th {\n",
       "        text-align: right;\n",
       "    }\n",
       "</style>\n",
       "<table border=\"1\" class=\"dataframe\">\n",
       "  <thead>\n",
       "    <tr style=\"text-align: right;\">\n",
       "      <th></th>\n",
       "      <th>PC1</th>\n",
       "      <th>PC2</th>\n",
       "      <th>PC3</th>\n",
       "      <th>target</th>\n",
       "    </tr>\n",
       "  </thead>\n",
       "  <tbody>\n",
       "    <tr>\n",
       "      <th>0</th>\n",
       "      <td>-1.225172</td>\n",
       "      <td>-0.665749</td>\n",
       "      <td>0.708134</td>\n",
       "      <td>3</td>\n",
       "    </tr>\n",
       "    <tr>\n",
       "      <th>1</th>\n",
       "      <td>-1.454080</td>\n",
       "      <td>2.022142</td>\n",
       "      <td>1.025052</td>\n",
       "      <td>3</td>\n",
       "    </tr>\n",
       "    <tr>\n",
       "      <th>2</th>\n",
       "      <td>-1.377273</td>\n",
       "      <td>1.194982</td>\n",
       "      <td>0.962786</td>\n",
       "      <td>3</td>\n",
       "    </tr>\n",
       "    <tr>\n",
       "      <th>3</th>\n",
       "      <td>-1.216914</td>\n",
       "      <td>-0.768396</td>\n",
       "      <td>0.734172</td>\n",
       "      <td>3</td>\n",
       "    </tr>\n",
       "    <tr>\n",
       "      <th>4</th>\n",
       "      <td>-1.261877</td>\n",
       "      <td>-0.076741</td>\n",
       "      <td>0.556019</td>\n",
       "      <td>3</td>\n",
       "    </tr>\n",
       "    <tr>\n",
       "      <th>...</th>\n",
       "      <td>...</td>\n",
       "      <td>...</td>\n",
       "      <td>...</td>\n",
       "      <td>...</td>\n",
       "    </tr>\n",
       "    <tr>\n",
       "      <th>164855</th>\n",
       "      <td>1.789397</td>\n",
       "      <td>-1.201160</td>\n",
       "      <td>-0.394494</td>\n",
       "      <td>3</td>\n",
       "    </tr>\n",
       "    <tr>\n",
       "      <th>164856</th>\n",
       "      <td>1.786374</td>\n",
       "      <td>-0.743463</td>\n",
       "      <td>-0.068428</td>\n",
       "      <td>3</td>\n",
       "    </tr>\n",
       "    <tr>\n",
       "      <th>164857</th>\n",
       "      <td>1.498467</td>\n",
       "      <td>2.289668</td>\n",
       "      <td>-0.099546</td>\n",
       "      <td>3</td>\n",
       "    </tr>\n",
       "    <tr>\n",
       "      <th>164858</th>\n",
       "      <td>1.779380</td>\n",
       "      <td>-1.221777</td>\n",
       "      <td>-0.301680</td>\n",
       "      <td>3</td>\n",
       "    </tr>\n",
       "    <tr>\n",
       "      <th>164859</th>\n",
       "      <td>1.768413</td>\n",
       "      <td>-0.833930</td>\n",
       "      <td>-0.188378</td>\n",
       "      <td>3</td>\n",
       "    </tr>\n",
       "  </tbody>\n",
       "</table>\n",
       "<p>164860 rows × 4 columns</p>\n",
       "</div>"
      ],
      "text/plain": [
       "             PC1       PC2       PC3 target\n",
       "0      -1.225172 -0.665749  0.708134      3\n",
       "1      -1.454080  2.022142  1.025052      3\n",
       "2      -1.377273  1.194982  0.962786      3\n",
       "3      -1.216914 -0.768396  0.734172      3\n",
       "4      -1.261877 -0.076741  0.556019      3\n",
       "...          ...       ...       ...    ...\n",
       "164855  1.789397 -1.201160 -0.394494      3\n",
       "164856  1.786374 -0.743463 -0.068428      3\n",
       "164857  1.498467  2.289668 -0.099546      3\n",
       "164858  1.779380 -1.221777 -0.301680      3\n",
       "164859  1.768413 -0.833930 -0.188378      3\n",
       "\n",
       "[164860 rows x 4 columns]"
      ]
     },
     "execution_count": 18,
     "metadata": {},
     "output_type": "execute_result"
    }
   ],
   "source": [
    "pca = PCA(n_components=3)\n",
    "\n",
    "# data scaling\n",
    "'''\n",
    "COMENTARIO\n",
    "\n",
    "x_scaled son los valores de features escalados, lo cual es incorrecto, pues estos\n",
    "valores incluyen el conjunto de test y dicho conjunto no debe ser utilizado para \n",
    "entrenar en ninguna parte (En este caso entrenar el StandardScaler). Lo correcto \n",
    "habría sido aplicarlo a X_train.  \n",
    "\n",
    "Posteriormente estos se usan para obtener los PCAs y entrenar la regresión logistica debajo.\n",
    "'''\n",
    "\n",
    "x_scaled = StandardScaler().fit_transform(features) \n",
    "\n",
    "pca_features = pca.fit_transform(x_scaled)\n",
    " \n",
    "print('Shape before PCA: ', x_scaled.shape)\n",
    "print('Shape after PCA: ', pca_features.shape)\n",
    " \n",
    "pca_df = pd.DataFrame(\n",
    "    data=pca_features, \n",
    "    columns=['PC1', 'PC2', 'PC3'])\n",
    "pca_df['target'] = outputs\n",
    "\n",
    "pca_df"
   ]
  },
  {
   "cell_type": "markdown",
   "metadata": {},
   "source": [
    "### Regresión Logística"
   ]
  },
  {
   "cell_type": "code",
   "execution_count": 19,
   "metadata": {},
   "outputs": [
    {
     "name": "stdout",
     "output_type": "stream",
     "text": [
      "The accuracy of the model is: 0.32\n"
     ]
    }
   ],
   "source": [
    "model_lr = make_pipeline(MinMaxScaler(), LogisticRegression(solver=\"sag\", multi_class='multinomial'))\n",
    "scores_lr = cross_val_score(model_lr, pca_df[[\"PC1\", \"PC2\", \"PC3\"]], pca_df[\"target\"], cv=16)\n",
    "print(\"The accuracy of the model is: %0.2f\" % (scores_lr.mean()))"
   ]
  },
  {
   "cell_type": "code",
   "execution_count": 20,
   "metadata": {},
   "outputs": [
    {
     "name": "stdout",
     "output_type": "stream",
     "text": [
      "The accuracy of the model is: 0.39\n"
     ]
    }
   ],
   "source": [
    "'''\n",
    "\n",
    "Aqui el procedimiento vuelve a estar bien porque utilizas X_train para entrenar y validar.\n",
    "A partir de aquí el resto está correcto.\n",
    "\n",
    "El único tema es el estar incluyendo cosas de más.\n",
    "'''\n",
    "\n",
    "model_lr = make_pipeline(MinMaxScaler(), LogisticRegression(solver=\"sag\", multi_class='multinomial'))\n",
    "scores_lr = cross_val_score(model_lr, X_train, y_train, cv=16)\n",
    "print(\"The accuracy of the model is: %0.2f\" % (scores_lr.mean()))"
   ]
  },
  {
   "cell_type": "markdown",
   "metadata": {},
   "source": [
    "### Clasificar SGD"
   ]
  },
  {
   "cell_type": "code",
   "execution_count": 22,
   "metadata": {},
   "outputs": [
    {
     "name": "stdout",
     "output_type": "stream",
     "text": [
      "The accuracy of the model is: 0.37\n"
     ]
    }
   ],
   "source": [
    "model_SGD = make_pipeline(StandardScaler(), SGDClassifier(loss='squared_error', penalty='l1'))\n",
    "scores_SGD = cross_val_score(model_SGD, X_train, y_train, cv=16)\n",
    "print(\"The accuracy of the model is: %0.2f\" % (scores_SGD.mean()))"
   ]
  },
  {
   "cell_type": "markdown",
   "metadata": {},
   "source": [
    "### si"
   ]
  },
  {
   "cell_type": "code",
   "execution_count": 23,
   "metadata": {},
   "outputs": [
    {
     "name": "stdout",
     "output_type": "stream",
     "text": [
      "The accuracy is: 0.39\n"
     ]
    }
   ],
   "source": [
    "model = make_pipeline(MinMaxScaler(), LogisticRegression(solver=\"sag\", multi_class='multinomial'))\n",
    "model = model.fit(X_train, y_train)\n",
    "\n",
    "print(\"The accuracy is: %0.2f\" % model.score(X_train, y_train))"
   ]
  },
  {
   "cell_type": "code",
   "execution_count": 24,
   "metadata": {},
   "outputs": [
    {
     "name": "stdout",
     "output_type": "stream",
     "text": [
      "The accuracy is: 0.39\n"
     ]
    }
   ],
   "source": [
    "# Escalado\n",
    "X_train = scaleDf(X_train)\n",
    "model = LogisticRegression(solver=\"sag\", multi_class='multinomial')\n",
    "model = model.fit(X_train, y_train)\n",
    "\n",
    "print(\"The accuracy is: %0.2f\" % model.score(X_train, y_train))"
   ]
  },
  {
   "cell_type": "markdown",
   "metadata": {},
   "source": [
    "## Asignación 2 &#x1F921;\n",
    "\n",
    "Evalue su modelo final en el conjunto de test (X_test y y_test). Su práctica será evaluada acorde a las técnicas aplicadas, la estimación de $E_{out}$, el valor de $E_{test}$, y contra las métricas obtenidas por sus compañeros."
   ]
  },
  {
   "cell_type": "markdown",
   "metadata": {},
   "source": [
    "### Regresión logística"
   ]
  },
  {
   "cell_type": "code",
   "execution_count": 25,
   "metadata": {},
   "outputs": [],
   "source": [
    "X_test = pd.get_dummies(X_test, prefix=[\"V1\",\"V2\"], columns=[\"V1\",\"V2\"])\n",
    "X_test = X_test.drop(columns=['V3', 'V4'])"
   ]
  },
  {
   "cell_type": "code",
   "execution_count": 26,
   "metadata": {},
   "outputs": [
    {
     "data": {
      "text/html": [
       "<div>\n",
       "<style scoped>\n",
       "    .dataframe tbody tr th:only-of-type {\n",
       "        vertical-align: middle;\n",
       "    }\n",
       "\n",
       "    .dataframe tbody tr th {\n",
       "        vertical-align: top;\n",
       "    }\n",
       "\n",
       "    .dataframe thead th {\n",
       "        text-align: right;\n",
       "    }\n",
       "</style>\n",
       "<table border=\"1\" class=\"dataframe\">\n",
       "  <thead>\n",
       "    <tr style=\"text-align: right;\">\n",
       "      <th></th>\n",
       "      <th>V5</th>\n",
       "      <th>V6</th>\n",
       "      <th>V7</th>\n",
       "      <th>V1_1</th>\n",
       "      <th>V1_2</th>\n",
       "      <th>V1_3</th>\n",
       "      <th>V1_4</th>\n",
       "      <th>V1_5</th>\n",
       "      <th>V2_1</th>\n",
       "      <th>V2_2</th>\n",
       "      <th>V2_3</th>\n",
       "      <th>V2_4</th>\n",
       "    </tr>\n",
       "  </thead>\n",
       "  <tbody>\n",
       "    <tr>\n",
       "      <th>9783</th>\n",
       "      <td>0.551893</td>\n",
       "      <td>0.110488</td>\n",
       "      <td>0.740631</td>\n",
       "      <td>1</td>\n",
       "      <td>0</td>\n",
       "      <td>0</td>\n",
       "      <td>0</td>\n",
       "      <td>0</td>\n",
       "      <td>0</td>\n",
       "      <td>0</td>\n",
       "      <td>0</td>\n",
       "      <td>1</td>\n",
       "    </tr>\n",
       "    <tr>\n",
       "      <th>85013</th>\n",
       "      <td>0.034487</td>\n",
       "      <td>0.904584</td>\n",
       "      <td>0.394811</td>\n",
       "      <td>0</td>\n",
       "      <td>0</td>\n",
       "      <td>1</td>\n",
       "      <td>0</td>\n",
       "      <td>0</td>\n",
       "      <td>0</td>\n",
       "      <td>0</td>\n",
       "      <td>0</td>\n",
       "      <td>1</td>\n",
       "    </tr>\n",
       "    <tr>\n",
       "      <th>70883</th>\n",
       "      <td>0.166508</td>\n",
       "      <td>0.616167</td>\n",
       "      <td>0.702954</td>\n",
       "      <td>0</td>\n",
       "      <td>0</td>\n",
       "      <td>1</td>\n",
       "      <td>0</td>\n",
       "      <td>0</td>\n",
       "      <td>1</td>\n",
       "      <td>0</td>\n",
       "      <td>0</td>\n",
       "      <td>0</td>\n",
       "    </tr>\n",
       "    <tr>\n",
       "      <th>64466</th>\n",
       "      <td>0.108150</td>\n",
       "      <td>0.390706</td>\n",
       "      <td>0.068819</td>\n",
       "      <td>0</td>\n",
       "      <td>0</td>\n",
       "      <td>1</td>\n",
       "      <td>0</td>\n",
       "      <td>0</td>\n",
       "      <td>0</td>\n",
       "      <td>1</td>\n",
       "      <td>0</td>\n",
       "      <td>0</td>\n",
       "    </tr>\n",
       "    <tr>\n",
       "      <th>82448</th>\n",
       "      <td>0.002424</td>\n",
       "      <td>0.988728</td>\n",
       "      <td>0.997082</td>\n",
       "      <td>0</td>\n",
       "      <td>0</td>\n",
       "      <td>1</td>\n",
       "      <td>0</td>\n",
       "      <td>0</td>\n",
       "      <td>0</td>\n",
       "      <td>0</td>\n",
       "      <td>0</td>\n",
       "      <td>1</td>\n",
       "    </tr>\n",
       "    <tr>\n",
       "      <th>...</th>\n",
       "      <td>...</td>\n",
       "      <td>...</td>\n",
       "      <td>...</td>\n",
       "      <td>...</td>\n",
       "      <td>...</td>\n",
       "      <td>...</td>\n",
       "      <td>...</td>\n",
       "      <td>...</td>\n",
       "      <td>...</td>\n",
       "      <td>...</td>\n",
       "      <td>...</td>\n",
       "      <td>...</td>\n",
       "    </tr>\n",
       "    <tr>\n",
       "      <th>102897</th>\n",
       "      <td>0.396319</td>\n",
       "      <td>0.337793</td>\n",
       "      <td>0.418006</td>\n",
       "      <td>0</td>\n",
       "      <td>0</td>\n",
       "      <td>0</td>\n",
       "      <td>1</td>\n",
       "      <td>0</td>\n",
       "      <td>1</td>\n",
       "      <td>0</td>\n",
       "      <td>0</td>\n",
       "      <td>0</td>\n",
       "    </tr>\n",
       "    <tr>\n",
       "      <th>40732</th>\n",
       "      <td>0.209603</td>\n",
       "      <td>0.193985</td>\n",
       "      <td>0.438459</td>\n",
       "      <td>0</td>\n",
       "      <td>1</td>\n",
       "      <td>0</td>\n",
       "      <td>0</td>\n",
       "      <td>0</td>\n",
       "      <td>0</td>\n",
       "      <td>1</td>\n",
       "      <td>0</td>\n",
       "      <td>0</td>\n",
       "    </tr>\n",
       "    <tr>\n",
       "      <th>114945</th>\n",
       "      <td>0.144371</td>\n",
       "      <td>0.230592</td>\n",
       "      <td>0.814192</td>\n",
       "      <td>0</td>\n",
       "      <td>0</td>\n",
       "      <td>0</td>\n",
       "      <td>1</td>\n",
       "      <td>0</td>\n",
       "      <td>0</td>\n",
       "      <td>0</td>\n",
       "      <td>1</td>\n",
       "      <td>0</td>\n",
       "    </tr>\n",
       "    <tr>\n",
       "      <th>19389</th>\n",
       "      <td>0.751392</td>\n",
       "      <td>0.110091</td>\n",
       "      <td>0.546481</td>\n",
       "      <td>1</td>\n",
       "      <td>0</td>\n",
       "      <td>0</td>\n",
       "      <td>0</td>\n",
       "      <td>0</td>\n",
       "      <td>0</td>\n",
       "      <td>1</td>\n",
       "      <td>0</td>\n",
       "      <td>0</td>\n",
       "    </tr>\n",
       "    <tr>\n",
       "      <th>155502</th>\n",
       "      <td>0.750342</td>\n",
       "      <td>0.991868</td>\n",
       "      <td>0.848610</td>\n",
       "      <td>0</td>\n",
       "      <td>0</td>\n",
       "      <td>0</td>\n",
       "      <td>0</td>\n",
       "      <td>1</td>\n",
       "      <td>0</td>\n",
       "      <td>0</td>\n",
       "      <td>0</td>\n",
       "      <td>1</td>\n",
       "    </tr>\n",
       "  </tbody>\n",
       "</table>\n",
       "<p>82430 rows × 12 columns</p>\n",
       "</div>"
      ],
      "text/plain": [
       "              V5        V6        V7  V1_1  V1_2  V1_3  V1_4  V1_5  V2_1  \\\n",
       "9783    0.551893  0.110488  0.740631     1     0     0     0     0     0   \n",
       "85013   0.034487  0.904584  0.394811     0     0     1     0     0     0   \n",
       "70883   0.166508  0.616167  0.702954     0     0     1     0     0     1   \n",
       "64466   0.108150  0.390706  0.068819     0     0     1     0     0     0   \n",
       "82448   0.002424  0.988728  0.997082     0     0     1     0     0     0   \n",
       "...          ...       ...       ...   ...   ...   ...   ...   ...   ...   \n",
       "102897  0.396319  0.337793  0.418006     0     0     0     1     0     1   \n",
       "40732   0.209603  0.193985  0.438459     0     1     0     0     0     0   \n",
       "114945  0.144371  0.230592  0.814192     0     0     0     1     0     0   \n",
       "19389   0.751392  0.110091  0.546481     1     0     0     0     0     0   \n",
       "155502  0.750342  0.991868  0.848610     0     0     0     0     1     0   \n",
       "\n",
       "        V2_2  V2_3  V2_4  \n",
       "9783       0     0     1  \n",
       "85013      0     0     1  \n",
       "70883      0     0     0  \n",
       "64466      1     0     0  \n",
       "82448      0     0     1  \n",
       "...      ...   ...   ...  \n",
       "102897     0     0     0  \n",
       "40732      1     0     0  \n",
       "114945     0     1     0  \n",
       "19389      1     0     0  \n",
       "155502     0     0     1  \n",
       "\n",
       "[82430 rows x 12 columns]"
      ]
     },
     "execution_count": 26,
     "metadata": {},
     "output_type": "execute_result"
    }
   ],
   "source": [
    "X_test = scaleDf(X_test)\n",
    "X_test"
   ]
  },
  {
   "cell_type": "code",
   "execution_count": 27,
   "metadata": {},
   "outputs": [
    {
     "data": {
      "text/plain": [
       "<AxesSubplot:ylabel='Count'>"
      ]
     },
     "execution_count": 27,
     "metadata": {},
     "output_type": "execute_result"
    },
    {
     "data": {
      "image/png": "[encoded data removed]",
      "text/plain": [
       "<Figure size 864x576 with 2 Axes>"
      ]
     },
     "metadata": {
      "needs_background": "light"
     },
     "output_type": "display_data"
    }
   ],
   "source": [
    "y_pred = model.predict(X_test)\n",
    "\n",
    "fig, axs = plt.subplots(ncols=2, nrows= 1, figsize=(12, 8))\n",
    "sns.histplot(x = y_test, ax = axs[0])\n",
    "sns.histplot(x = y_pred, ax = axs[1])"
   ]
  },
  {
   "cell_type": "code",
   "execution_count": 28,
   "metadata": {},
   "outputs": [
    {
     "data": {
      "text/plain": [
       "0.3945650855271139"
      ]
     },
     "execution_count": 28,
     "metadata": {},
     "output_type": "execute_result"
    }
   ],
   "source": [
    "model.score(X_test, y_test)"
   ]
  }
 ],
 "metadata": {
  "kernelspec": {
   "display_name": "Python 3",
   "language": "python",
   "name": "python3"
  },
  "language_info": {
   "codemirror_mode": {
    "name": "ipython",
    "version": 3
   },
   "file_extension": ".py",
   "mimetype": "text/x-python",
   "name": "python",
   "nbconvert_exporter": "python",
   "pygments_lexer": "ipython3",
   "version": "3.8.11"
  }
 },
 "nbformat": 4,
 "nbformat_minor": 4
}
