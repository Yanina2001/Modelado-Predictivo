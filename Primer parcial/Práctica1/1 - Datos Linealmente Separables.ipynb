{
 "cells": [
  {
   "cell_type": "code",
   "execution_count": 1,
   "metadata": {},
   "outputs": [],
   "source": [
    "# Execute if necessary\n",
    "# %%capture\n",
    "# !pip install numpy seaborn matplotlib"
   ]
  },
  {
   "cell_type": "code",
   "execution_count": 2,
   "metadata": {
    "deletable": false,
    "editable": false
   },
   "outputs": [],
   "source": [
    "import numpy as np\n",
    "import seaborn as sns\n",
    "import matplotlib.pyplot as plt\n",
    "from typing import Dict, Tuple"
   ]
  },
  {
   "cell_type": "code",
   "execution_count": 3,
   "metadata": {
    "deletable": false,
    "editable": false
   },
   "outputs": [],
   "source": [
    "def __random_fn_def__():\n",
    "    def __random_fn__(shape):\n",
    "        return np.zeros(shape)\n",
    "    \n",
    "    return __random_fn__\n",
    "    \n",
    "__random_fn__ = __random_fn_def__()"
   ]
  },
  {
   "cell_type": "markdown",
   "metadata": {},
   "source": [
    "# Práctica 1: Datos Linealmente Separables"
   ]
  },
  {
   "cell_type": "markdown",
   "metadata": {},
   "source": [
    "__Instrucciones__: A continuación hay una lista de funciones que debe implementar. La descripción de cada una de ellas se encuentra en la definición de cada una de las funciones. Cada función está marcada por &#x1F625;,  &#x1F643; o &#x1F921;. Las marcas indican:\n",
    "\n",
    "- &#x1F625;: Indican una entrega que debe ser hecha dentro de la misma sesión de la asignación. \n",
    "- &#x1F643;: Indican una entrega que puede ser hecha hasta la siguiente sesión.\n",
    "- &#x1F921;: Debe mostrar un avance en la misma sesión, pero la entrega puede ser hecha en la siguiente.\n",
    "\n",
    "Aquellas entregas parciales que no sean hechas el día de la asignación ya no serán válidas para las entregas totales, sin embargo, las entregas totales seguirán siendo válidas.\n",
    "\n",
    "- generate_data &#x1F625;\n",
    "- label_data &#x1F625;\n",
    "- compute_line_points &#x1F643;\n",
    "- train_pla &#x1F921;\n",
    "\n",
    "__Notas:__\n",
    "- No está permitido el uso de ninguna paquetería adicional a las importadas en este cuaderno.\n",
    "- Puede agregar más celdas en caso de que así lo requiera.\n",
    "- Los únicos espacios permitidos para codificar serán aquellos marcados por _#CÓDIGO AQUI_ y las celdas que usted agregue. __NO MODIFIQUE NINGUNA OTRA CELDA__."
   ]
  },
  {
   "cell_type": "code",
   "execution_count": 4,
   "metadata": {},
   "outputs": [],
   "source": [
    "def generate_data(\n",
    "    n_dims: int,\n",
    "    n_samples: int,\n",
    "    from_distribution: str=\"normal\",\n",
    "    distribution_params: Dict[str, float]={\"mean\": 0., \"std\": 1.}\n",
    ") -> np.array:\n",
    "    \"\"\"\n",
    "    Descripción:\n",
    "    Esta funcion genera datos artificiales muestreados de una distribución de probabilidad especificada.\n",
    "    \n",
    "    Entradas:\n",
    "    - n_dims: Número de dimensiones (características) que contendrá cada ejemplo \n",
    "    - n_samples: Número de muestreos (ejemplos) que deberán ser generados\n",
    "    - from_distribution: Distribución de la que deberán ser muestreados los puntos, \"normal\" o \"uniform\"   \n",
    "    - distribution_params: Parámetros para la distribución de la que serán muestradas los valores.\n",
    "        \"uniform\": {\n",
    "            \"low\": El número mínimo que puede ser muestreado\n",
    "            \"high\": El número máximo que puede ser muestreado\n",
    "            }\n",
    "        \"normal\": {\n",
    "            \"mean\": La media que tendrá la distribución normal\n",
    "            \"std\": La desviación estándar de la distribución normal\n",
    "            }\n",
    "            \n",
    "    Salidas:\n",
    "    - Un arreglo de numpys muestreado de la distribución seleccionada con dimensiones (n_samples, n_dims)\n",
    "    \"\"\"\n",
    "    \n",
    "    examples = __random_fn__((n_samples, n_dims))\n",
    "    \n",
    "    # CÓDIGO AQUÍ\n",
    "    \n",
    "    return examples"
   ]
  },
  {
   "cell_type": "code",
   "execution_count": 5,
   "metadata": {
    "deletable": false,
    "editable": false
   },
   "outputs": [
    {
     "data": {
      "image/png": "[encoded data removed]",
      "text/plain": [
       "<Figure size 1080x360 with 2 Axes>"
      ]
     },
     "metadata": {
      "needs_background": "light"
     },
     "output_type": "display_data"
    }
   ],
   "source": [
    "__n_samples__ = 1000\n",
    "__n_dims__ = 2\n",
    "\n",
    "__uniform__ = generate_data(\n",
    "    n_dims=__n_dims__, \n",
    "    n_samples=__n_samples__, \n",
    "    from_distribution=\"uniform\", \n",
    "    distribution_params={\"low\": -10., \"high\": 10.}\n",
    ")\n",
    "\n",
    "__normal__ = generate_data(\n",
    "    n_dims=__n_dims__, \n",
    "    n_samples=__n_samples__, \n",
    "    from_distribution=\"normal\", \n",
    "    distribution_params={\"mean\": 3., \"std\": 2.}\n",
    ")\n",
    "\n",
    "assert __uniform__.shape == (__n_samples__, __n_dims__)\n",
    "assert __normal__.shape == (__n_samples__, __n_dims__)\n",
    "\n",
    "__fig__, __axs__ = plt.subplots(ncols=2, figsize=(15, 5))\n",
    "__axs__[0].set(title=\"Uniform data\")\n",
    "__axs__[1].set(title=\"Normal data\")\n",
    "_ = sns.scatterplot(x=__uniform__[:, 0], y=__uniform__[:, 1], ax=__axs__[0])\n",
    "_ = sns.scatterplot(x=__normal__[:, 0], y=__normal__[:, 1], ax=__axs__[1])"
   ]
  },
  {
   "cell_type": "code",
   "execution_count": 6,
   "metadata": {},
   "outputs": [],
   "source": [
    "def label_data(\n",
    "    data: np.array,\n",
    "    model: np.array=None\n",
    ") -> np.array: \n",
    "    \"\"\"\n",
    "    Descripción:\n",
    "    Esta funcion genera el etiquetado de datos artificiales de acuerdo a un modelo generado. \n",
    "    En caso de no ser recibido como parámetro, el modelo debe ser generado aleatoriamente de \n",
    "    una distribución normal con media 0 y varianza 1.\n",
    "    \n",
    "    Entradas:\n",
    "    - data: Datos a etiquetar de dimensiones Número de dimensiones (# ejemplos, # características)\n",
    "    - model: Modelo utilizado para etiquetar\n",
    "            \n",
    "    Salidas:\n",
    "    - Un arreglo de numpy referente a las etiquetas asignadas a cada ejemplo recibido en la entrada \"data\".\n",
    "    - Un arreglo de numpy referente al modelo generado aleatoriamente.\n",
    "    \"\"\"\n",
    "    \n",
    "    labels = __random_fn__((data.shape[0],))\n",
    "    if model is None:\n",
    "        model = __random_fn__((data.shape[1] + 1,))\n",
    "    \n",
    "    # CÓDIGO AQUÍ\n",
    "    \n",
    "    return labels, model"
   ]
  },
  {
   "cell_type": "code",
   "execution_count": 7,
   "metadata": {
    "deletable": false,
    "editable": false
   },
   "outputs": [
    {
     "data": {
      "image/png": "[encoded data removed]",
      "text/plain": [
       "<Figure size 432x288 with 1 Axes>"
      ]
     },
     "metadata": {
      "needs_background": "light"
     },
     "output_type": "display_data"
    }
   ],
   "source": [
    "__labels__, __model__ = label_data(__uniform__)\n",
    "\n",
    "assert __labels__.shape == (__n_samples__,)\n",
    "assert __model__.shape == (__n_dims__ + 1,)\n",
    "\n",
    "_ = sns.scatterplot(x=__uniform__[:, 0], y=__uniform__[:, 1], hue=__labels__)"
   ]
  },
  {
   "cell_type": "code",
   "execution_count": 8,
   "metadata": {},
   "outputs": [],
   "source": [
    "def compute_line_points(\n",
    "    model: np.array,\n",
    "    bounds: Tuple[float, float]=(-10, 10)\n",
    ") -> np.array: \n",
    "    \"\"\"\n",
    "    Descripción:\n",
    "    Esta funcion genera los puntos en los extremos de la linea generada por un modelo bidimensional \n",
    "    recibido como parámetro.\n",
    "    \n",
    "    Entradas:\n",
    "    - model: El modelo que representa una linea. El modelo debe tener exactamente tres parámetros.\n",
    "    - bounds: Indíca el límite inferior y superior del eje x, en un plano cartesiano, para los cuales \n",
    "            deben ser obtenidos los valores de y\n",
    "            \n",
    "    Salidas:\n",
    "    - Un arreglo de numpy de tamaño 2x2 (una matriz), donde cada fila representa las coordenadas (x, y) de\n",
    "        la linea\n",
    "    \"\"\"\n",
    "    \n",
    "    assert model.shape == (3,)    \n",
    "    points = __random_fn__((2, 2)) \n",
    "    \n",
    "    # CÓDIGO AQUÍ\n",
    "    \n",
    "    return points"
   ]
  },
  {
   "cell_type": "code",
   "execution_count": 9,
   "metadata": {
    "deletable": false,
    "editable": false
   },
   "outputs": [
    {
     "data": {
      "image/png": "[encoded data removed]",
      "text/plain": [
       "<Figure size 432x288 with 1 Axes>"
      ]
     },
     "metadata": {
      "needs_background": "light"
     },
     "output_type": "display_data"
    }
   ],
   "source": [
    "__line_points__ = compute_line_points(__model__, bounds=(-10, 10))\n",
    "\n",
    "assert __line_points__.shape == (2, 2)\n",
    "\n",
    "_ = sns.scatterplot(x=__uniform__[:, 0], y=__uniform__[:, 1], hue=__labels__)\n",
    "_ = sns.lineplot(x=__line_points__[:, 0], y=__line_points__[:, 1])"
   ]
  },
  {
   "cell_type": "code",
   "execution_count": 10,
   "metadata": {},
   "outputs": [],
   "source": [
    "def train_pla(\n",
    "    data,\n",
    "    target,\n",
    "    max_iters=1000\n",
    ") -> np.array: \n",
    "    \"\"\"\n",
    "    Descripción:\n",
    "    Esta funcion ejecuta una variante del algoritmo PLA para clasificar datos linealmente separables.\n",
    "    \n",
    "    Entradas:\n",
    "    - data: Indica las características utilizadas para la clasificación.\n",
    "    - target: Indíca las etiquetas que se esperan obtener despues de una correcta clasificación.\n",
    "    - max_iters: Indica el número máximo de iteraciones del algoritmo. Si el algoritmo no converge\n",
    "                antes del número máximo de iteraciones, se detiene y devuelve los parámetros \n",
    "                calculados hasta el momento.\n",
    "            \n",
    "    Salidas:\n",
    "    - Un arreglo de numpy indicando los parámetros calculados\n",
    "    \"\"\"\n",
    "        \n",
    "    model = __random_fn__((data.shape[1] + 1,))\n",
    "    \n",
    "    # CÓDIGO AQUÍ\n",
    "        \n",
    "    return model"
   ]
  },
  {
   "cell_type": "code",
   "execution_count": 11,
   "metadata": {
    "deletable": false,
    "editable": false
   },
   "outputs": [
    {
     "data": {
      "image/png": "[encoded data removed]",
      "text/plain": [
       "<Figure size 1080x360 with 2 Axes>"
      ]
     },
     "metadata": {
      "needs_background": "light"
     },
     "output_type": "display_data"
    }
   ],
   "source": [
    "__bpla_model__ = train_pla(__uniform__, __labels__, max_iters=1)\n",
    "\n",
    "assert __bpla_model__.shape == (__n_dims__ + 1,)\n",
    "\n",
    "__bpla_labels__, _ = label_data(__uniform__, __bpla_model__)\n",
    "\n",
    "__fig__, __axs__ = plt.subplots(ncols=2, figsize=(15, 5))\n",
    "__axs__[0].set(title=\"Original data\")\n",
    "__axs__[1].set(title=\"Bad fitted data\")\n",
    "_ = sns.scatterplot(x=__uniform__[:, 0], y=__uniform__[:, 1], ax=__axs__[0], hue=__labels__)\n",
    "_ = sns.scatterplot(x=__uniform__[:, 0], y=__uniform__[:, 1], ax=__axs__[1], hue=__bpla_labels__)"
   ]
  },
  {
   "cell_type": "code",
   "execution_count": 12,
   "metadata": {
    "deletable": false,
    "editable": false
   },
   "outputs": [
    {
     "data": {
      "image/png": "[encoded data removed]",
      "text/plain": [
       "<Figure size 1080x360 with 2 Axes>"
      ]
     },
     "metadata": {
      "needs_background": "light"
     },
     "output_type": "display_data"
    }
   ],
   "source": [
    "__pla_model__ = train_pla(__uniform__, __labels__, max_iters=2 * __n_samples__)\n",
    "\n",
    "assert __pla_model__.shape == (__n_dims__ + 1,)\n",
    "\n",
    "__pla_labels__, _ = label_data(__uniform__, __pla_model__)\n",
    "\n",
    "__fig__, __axs__ = plt.subplots(ncols=2, figsize=(15, 5))\n",
    "__axs__[0].set(title=\"Original data\")\n",
    "__axs__[1].set(title=\"Fitted data\")\n",
    "_ = sns.scatterplot(x=__uniform__[:, 0], y=__uniform__[:, 1], ax=__axs__[0], hue=__labels__)\n",
    "_ = sns.scatterplot(x=__uniform__[:, 0], y=__uniform__[:, 1], ax=__axs__[1], hue=__pla_labels__)"
   ]
  },
  {
   "cell_type": "markdown",
   "metadata": {},
   "source": [
    "## Integrity Tests"
   ]
  },
  {
   "cell_type": "code",
   "execution_count": 13,
   "metadata": {
    "deletable": false,
    "editable": false
   },
   "outputs": [],
   "source": [
    "import hashlib\n",
    "\n",
    "cell_signs = [\n",
    "    \"449111399bb0dc73c3f4a9c612116296cfffc2be\",\n",
    "    \"d2f8bfa1c856620f009d12f6272e5935dea8cda2\",\n",
    "    \"ffe3ff8cb2cb75dc39fb033740fa1589c67723ae\",\n",
    "    \"158ac9ab2ed7f2164042b0f1f2f0b95749be4e00\",\n",
    "    \"d9394982d59299e6500172089d4ba5fcd8b4183d\",\n",
    "    \"ed7cfbafb8069a43019807d76b77426ac49143a9\",\n",
    "    \"59948fb3a7667e8b9de408d1c1210ed58f534cec\"\n",
    "]\n",
    "\n",
    "for content in _ih:\n",
    "    content_sign = str(hashlib.sha1(content.strip().encode(\"utf-8\")).hexdigest())\n",
    "    if content_sign == cell_signs[0]:\n",
    "        cell_signs.pop(0)\n",
    "        if len(cell_signs) == 0:\n",
    "            break\n",
    "        \n",
    "if len(cell_signs) > 0:\n",
    "    print(\"Something was modified...\")\n",
    "    for cell_sign in cell_signs:\n",
    "        print(cell_sign)"
   ]
  },
  {
   "cell_type": "code",
   "execution_count": 14,
   "metadata": {
    "deletable": false,
    "editable": false
   },
   "outputs": [
    {
     "name": "stdout",
     "output_type": "stream",
     "text": [
      "Everything is consistent :)\n"
     ]
    }
   ],
   "source": [
    "content = _ih[-2]\n",
    "program_sign = \"86f5b55fbf5566972cfa80ed92fdebff475fed55\"\n",
    "if str(hashlib.sha1(content.strip().encode(\"utf-8\")).hexdigest()) == program_sign:\n",
    "    print(\"Everything is consistent :)\")"
   ]
  },
  {
   "cell_type": "code",
   "execution_count": null,
   "metadata": {},
   "outputs": [],
   "source": []
  }
 ],
 "metadata": {
  "celltoolbar": "Edit Metadata",
  "kernelspec": {
   "display_name": "Python 3 (ipykernel)",
   "language": "python",
   "name": "python3"
  },
  "language_info": {
   "codemirror_mode": {
    "name": "ipython",
    "version": 3
   },
   "file_extension": ".py",
   "mimetype": "text/x-python",
   "name": "python",
   "nbconvert_exporter": "python",
   "pygments_lexer": "ipython3",
   "version": "3.9.12"
  }
 },
 "nbformat": 4,
 "nbformat_minor": 4
}
